{
 "cells": [
  {
   "cell_type": "markdown",
   "metadata": {},
   "source": [
    "# 01. PyTorch Workflow Excercise\n",
    "\n",
    "Excerise: \n",
    "<https://github.com/mrdbourke/pytorch-deep-learning/blob/main/extras/exercises/01_pytorch_workflow_exercises.ipynb>\n",
    "\n",
    "Solution:\n",
    "<https://github.com/mrdbourke/pytorch-deep-learning/blob/main/extras/solutions/01_pytorch_workflow_exercise_solutions.ipynb>"
   ]
  },
  {
   "cell_type": "code",
   "execution_count": 72,
   "metadata": {},
   "outputs": [
    {
     "name": "stdout",
     "output_type": "stream",
     "text": [
      "Last updated on: 2024-08-10 15:16:58.793798\n"
     ]
    }
   ],
   "source": [
    "# Last updated\n",
    "import datetime\n",
    "print(f\"Last updated on: {datetime.datetime.now()}\")"
   ]
  },
  {
   "cell_type": "code",
   "execution_count": 73,
   "metadata": {},
   "outputs": [],
   "source": [
    "# Import necessary libraries\n",
    "import torch\n",
    "import torch.nn as nn\n",
    "import numpy as np\n",
    "import matplotlib.pyplot as plt\n",
    "from sklearn import datasets"
   ]
  },
  {
   "cell_type": "code",
   "execution_count": 74,
   "metadata": {},
   "outputs": [
    {
     "data": {
      "text/plain": [
       "device(type='cuda')"
      ]
     },
     "execution_count": 74,
     "metadata": {},
     "output_type": "execute_result"
    }
   ],
   "source": [
    "# Set up device-agnostic code\n",
    "device = torch.device('cuda' if torch.cuda.is_available() else 'cpu')\n",
    "device"
   ]
  },
  {
   "cell_type": "markdown",
   "metadata": {},
   "source": [
    "## 1. Create a straight line dataset using the linear regression formula (`weight * X + bias`).\n",
    "  * Set `weight=0.3` and `bias=0.9` there should be at least 100 datapoints total. \n",
    "  * Split the data into 80% training, 20% testing.\n",
    "  * Plot the training and testing data so it becomes visual.\n",
    "\n",
    "Your output of the below cell should look something like:\n",
    "```\n",
    "Number of X samples: 100\n",
    "Number of y samples: 100\n",
    "First 10 X & y samples:\n",
    "X: tensor([0.0000, 0.0100, 0.0200, 0.0300, 0.0400, 0.0500, 0.0600, 0.0700, 0.0800,\n",
    "        0.0900])\n",
    "y: tensor([0.9000, 0.9030, 0.9060, 0.9090, 0.9120, 0.9150, 0.9180, 0.9210, 0.9240,\n",
    "        0.9270])\n",
    "```\n",
    "\n",
    "Of course the numbers in `X` and `y` may be different but ideally they're created using the linear regression formula."
   ]
  },
  {
   "cell_type": "code",
   "execution_count": 75,
   "metadata": {},
   "outputs": [
    {
     "name": "stdout",
     "output_type": "stream",
     "text": [
      "Number of X samples: 100\n",
      "Number of y samples: 100\n",
      "First 10 X & y samples:\n",
      "X: tensor([[0.0000],\n",
      "        [0.0100],\n",
      "        [0.0200],\n",
      "        [0.0300],\n",
      "        [0.0400],\n",
      "        [0.0500],\n",
      "        [0.0600],\n",
      "        [0.0700],\n",
      "        [0.0800],\n",
      "        [0.0900]])\n",
      "y: tensor([[0.9000],\n",
      "        [0.9030],\n",
      "        [0.9060],\n",
      "        [0.9090],\n",
      "        [0.9120],\n",
      "        [0.9150],\n",
      "        [0.9180],\n",
      "        [0.9210],\n",
      "        [0.9240],\n",
      "        [0.9270]])\n"
     ]
    }
   ],
   "source": [
    "# Create the data parameters\n",
    "weight = 0.3\n",
    "bias = 0.9\n",
    "\n",
    "torch.random.manual_seed(42)\n",
    "\n",
    "# make X and y using linear regression feature\n",
    "X = torch.arange(0,1,0.01).unsqueeze(dim = 1)\n",
    "y = weight * X + bias\n",
    "\n",
    "print(f\"Number of X samples: {len(X)}\")\n",
    "print(f\"Number of y samples: {len(y)}\")\n",
    "print(f\"First 10 X & y samples:\\nX: {X[:10]}\\ny: {y[:10]}\")"
   ]
  },
  {
   "cell_type": "code",
   "execution_count": 76,
   "metadata": {},
   "outputs": [
    {
     "data": {
      "text/plain": [
       "(80, 20, 80, 20)"
      ]
     },
     "execution_count": 76,
     "metadata": {},
     "output_type": "execute_result"
    }
   ],
   "source": [
    "# split the data into training and testing\n",
    "train_split = int(0.8 * len(X))\n",
    "\n",
    "X_train, y_train = X[:train_split], y[:train_split]\n",
    "X_test, y_test = X[train_split:], y[train_split:]\n",
    "\n",
    "len(X_train), len(X_test), len(y_train), len(y_test)"
   ]
  },
  {
   "cell_type": "code",
   "execution_count": 77,
   "metadata": {},
   "outputs": [
    {
     "data": {
      "image/png": "[encoded data removed]",
      "text/plain": [
       "<Figure size 1000x700 with 1 Axes>"
      ]
     },
     "metadata": {},
     "output_type": "display_data"
    }
   ],
   "source": [
    "# Plot the training and test data\n",
    "def plot_predictions(train_data = X_train,\n",
    "                 train_labels = y_train,\n",
    "                 test_data = X_test,\n",
    "                 test_labels = y_test,\n",
    "                 predictions = None):\n",
    "    plt.figure(figsize=(10, 7))\n",
    "    plt.scatter(train_data, train_labels, c='b', label='Training Data', s=4)\n",
    "    plt.scatter(test_data, test_labels, c='g', label='Testing Data', s=4)\n",
    "    if predictions is not None:\n",
    "        plt.scatter(test_data, predictions, c='r', label='Predictions', s=4)\n",
    "    plt.legend(prop = {'size': 15})\n",
    "\n",
    "plot_predictions()\n"
   ]
  },
  {
   "cell_type": "markdown",
   "metadata": {},
   "source": [
    "## 2. Build a PyTorch model by subclassing `nn.Module`. \n",
    "  * Inside should be a randomly initialized `nn.Parameter()` with `requires_grad=True`, one for `weights` and one for `bias`. \n",
    "  * Implement the `forward()` method to compute the linear regression function you used to create the dataset in 1. \n",
    "  * Once you've constructed the model, make an instance of it and check its `state_dict()`.\n",
    "  * **Note:** If you'd like to use `nn.Linear()` instead of `nn.Parameter()` you can."
   ]
  },
  {
   "cell_type": "code",
   "execution_count": 78,
   "metadata": {},
   "outputs": [
    {
     "data": {
      "text/plain": [
       "(LinearRegressionModel(\n",
       "   (linear_layer): Linear(in_features=1, out_features=1, bias=True)\n",
       " ),\n",
       " OrderedDict([('linear_layer.weight', tensor([[0.7645]])),\n",
       "              ('linear_layer.bias', tensor([0.8300]))]))"
      ]
     },
     "execution_count": 78,
     "metadata": {},
     "output_type": "execute_result"
    }
   ],
   "source": [
    "# Create Pytorch Linear Regression Model by subclassing nn.Module\n",
    "\n",
    "# class LinearRegressionModel(nn.Module):\n",
    "#     def __init__ (self,):\n",
    "#         super().__init__()\n",
    "#         self.weight = nn.Parameter(data=torch.randn(1,\n",
    "#                                                requires_grad=True,\n",
    "#                                                dtype=torch.float))\n",
    "#         self.bias = nn.Parameter(data=torch.randn(1,\n",
    "#                                              requires_grad=True,\n",
    "#                                              dtype=torch.float))\n",
    "        \n",
    "#     def forward(self, x):\n",
    "#         return self.weight * x + self.bias\n",
    "\n",
    "## Option 2\n",
    "class LinearRegressionModel(nn.Module):\n",
    "  def __init__(self):\n",
    "    super().__init__()\n",
    "    self.linear_layer = nn.Linear(in_features = 1,\n",
    "                                  out_features = 1)\n",
    "  def forward(self,x : torch.Tensor) -> torch.Tensor:\n",
    "    return self.linear_layer(x)\n",
    "\n",
    "torch.manual_seed(42)\n",
    "model_1 = LinearRegressionModel()\n",
    "model_1, model_1.state_dict()"
   ]
  },
  {
   "cell_type": "code",
   "execution_count": 79,
   "metadata": {},
   "outputs": [
    {
     "data": {
      "text/plain": [
       "device(type='cpu')"
      ]
     },
     "execution_count": 79,
     "metadata": {},
     "output_type": "execute_result"
    }
   ],
   "source": [
    "next(model_1.parameters()).device"
   ]
  },
  {
   "cell_type": "code",
   "execution_count": 80,
   "metadata": {},
   "outputs": [
    {
     "data": {
      "text/plain": [
       "[Parameter containing:\n",
       " tensor([[-0.2343]], device='cuda:0', requires_grad=True),\n",
       " Parameter containing:\n",
       " tensor([0.9186], device='cuda:0', requires_grad=True)]"
      ]
     },
     "execution_count": 80,
     "metadata": {},
     "output_type": "execute_result"
    }
   ],
   "source": [
    "# Instantiate the model and put it to the target device\n",
    "model_1 = LinearRegressionModel().to(device)\n",
    "list(model_1.parameters())"
   ]
  },
  {
   "cell_type": "markdown",
   "metadata": {},
   "source": [
    "## 3. Create a loss function and optimizer using `nn.L1Loss()` and `torch.optim.SGD(params, lr)` respectively. \n",
    "  * Set the learning rate of the optimizer to be 0.01 and the parameters to optimize should be the model parameters from the model you created in 2.\n",
    "  * Write a training loop to perform the appropriate training steps for 300 epochs.\n",
    "  * The training loop should test the model on the test dataset every 20 epochs."
   ]
  },
  {
   "cell_type": "code",
   "execution_count": 81,
   "metadata": {},
   "outputs": [],
   "source": [
    "# Create the loss function and optimizer\n",
    "loss_fn = nn.L1Loss()\n",
    "\n",
    "optimizer = torch.optim.SGD(params=model_1.parameters(), lr=0.01)"
   ]
  },
  {
   "cell_type": "code",
   "execution_count": 82,
   "metadata": {},
   "outputs": [
    {
     "name": "stdout",
     "output_type": "stream",
     "text": [
      "y_pred shape: torch.Size([20, 1])\n",
      "y_train shape: torch.Size([80, 1])\n"
     ]
    }
   ],
   "source": [
    "print(\"y_pred shape:\", y_pred.shape)\n",
    "print(\"y_train shape:\", y_train.shape)"
   ]
  },
  {
   "cell_type": "code",
   "execution_count": 83,
   "metadata": {},
   "outputs": [
    {
     "name": "stdout",
     "output_type": "stream",
     "text": [
      "Epoch: 0, Loss: 0.1935, Test Loss: 0.4470\n",
      "Epoch: 20, Loss: 0.0997, Test Loss: 0.2775\n",
      "Epoch: 40, Loss: 0.0829, Test Loss: 0.2095\n",
      "Epoch: 60, Loss: 0.0752, Test Loss: 0.1795\n",
      "Epoch: 80, Loss: 0.0683, Test Loss: 0.1608\n",
      "Epoch: 100, Loss: 0.0615, Test Loss: 0.1444\n",
      "Epoch: 120, Loss: 0.0546, Test Loss: 0.1285\n",
      "Epoch: 140, Loss: 0.0478, Test Loss: 0.1121\n",
      "Epoch: 160, Loss: 0.0409, Test Loss: 0.0958\n",
      "Epoch: 180, Loss: 0.0341, Test Loss: 0.0798\n",
      "Epoch: 200, Loss: 0.0272, Test Loss: 0.0635\n",
      "Epoch: 220, Loss: 0.0204, Test Loss: 0.0472\n",
      "Epoch: 240, Loss: 0.0135, Test Loss: 0.0312\n",
      "Epoch: 260, Loss: 0.0067, Test Loss: 0.0149\n",
      "Epoch: 280, Loss: 0.0031, Test Loss: 0.0068\n"
     ]
    }
   ],
   "source": [
    "# Training Loop\n",
    "\n",
    "# Traing model for 300 epochs\n",
    "torch.manual_seed(42)\n",
    "num_epochs = 300\n",
    "\n",
    "# Send data to target device\n",
    "X_train = X_train.to(device)\n",
    "y_train = y_train.to(device)\n",
    "X_test = X_test.to(device)\n",
    "y_test = y_test.to(device)\n",
    "\n",
    "for epoch in range(num_epochs):\n",
    "    ### Training\n",
    "    \n",
    "    # put the model in training mode\n",
    "    model_1.train()\n",
    "\n",
    "    # 1) Forward pass\n",
    "    y_pred = model_1(X_train)\n",
    "    # 2) Calculate the loss\n",
    "    loss = loss_fn(y_pred, y_train)\n",
    "    # 3) Zero the gradients\n",
    "    optimizer.zero_grad()\n",
    "    # 4) Backward pass\n",
    "    loss.backward()\n",
    "    # 5) Step the optimizer\n",
    "    optimizer.step()\n",
    "    \n",
    "    ### Perform testing every 20 epochs\n",
    "    if epoch % 20 == 0:\n",
    "        # put the model in evaluation mode and setup inference context\n",
    "        model_1.eval()\n",
    "        with torch.inference_mode():\n",
    "            # 1) Forward pass\n",
    "            y_test_pred = model_1(X_test)\n",
    "            # 2) Calculate the loss\n",
    "            test_loss = loss_fn(y_test_pred, y_test)\n",
    "            # Print out what's happening\n",
    "            print(f\"Epoch: {epoch}, Loss: {loss.item():.4f}, Test Loss: {test_loss.item():.4f}\")"
   ]
  },
  {
   "cell_type": "markdown",
   "metadata": {},
   "source": [
    "## 4. Make predictions with the trained model on the test data.\n",
    "  * Visualize these predictions against the original training and testing data (**note:** you may need to make sure the predictions are *not* on the GPU if you want to use non-CUDA-enabled libraries such as matplotlib to plot)."
   ]
  },
  {
   "cell_type": "code",
   "execution_count": 84,
   "metadata": {},
   "outputs": [
    {
     "data": {
      "text/plain": [
       "device(type='cuda', index=0)"
      ]
     },
     "execution_count": 84,
     "metadata": {},
     "output_type": "execute_result"
    }
   ],
   "source": [
    "X_test.device"
   ]
  },
  {
   "cell_type": "code",
   "execution_count": 85,
   "metadata": {},
   "outputs": [
    {
     "data": {
      "text/plain": [
       "tensor([[1.1340],\n",
       "        [1.1369],\n",
       "        [1.1398],\n",
       "        [1.1427],\n",
       "        [1.1457],\n",
       "        [1.1486],\n",
       "        [1.1515],\n",
       "        [1.1544],\n",
       "        [1.1574],\n",
       "        [1.1603],\n",
       "        [1.1632],\n",
       "        [1.1661],\n",
       "        [1.1691],\n",
       "        [1.1720],\n",
       "        [1.1749],\n",
       "        [1.1778],\n",
       "        [1.1808],\n",
       "        [1.1837],\n",
       "        [1.1866],\n",
       "        [1.1896]])"
      ]
     },
     "execution_count": 85,
     "metadata": {},
     "output_type": "execute_result"
    }
   ],
   "source": [
    "# Make predictions with the models\n",
    "\n",
    "model_1.eval()\n",
    "with torch.inference_mode():\n",
    "    y_pred = model_1(X_test.to(device)).detach().cpu()\n",
    "\n",
    "y_pred"
   ]
  },
  {
   "cell_type": "code",
   "execution_count": 86,
   "metadata": {},
   "outputs": [
    {
     "data": {
      "image/png": "[encoded data removed]",
      "text/plain": [
       "<Figure size 1000x700 with 1 Axes>"
      ]
     },
     "metadata": {},
     "output_type": "display_data"
    }
   ],
   "source": [
    "# Plot the predictions (these may need to be on a specific device)\n",
    "plot_predictions(predictions=y_pred)"
   ]
  },
  {
   "cell_type": "markdown",
   "metadata": {},
   "source": [
    "## 5. Save your trained model's `state_dict()` to file.\n",
    "  * Create a new instance of your model class you made in 2. and load in the `state_dict()` you just saved to it.\n",
    "  * Perform predictions on your test data with the loaded model and confirm they match the original model predictions from 4."
   ]
  },
  {
   "cell_type": "code",
   "execution_count": 87,
   "metadata": {},
   "outputs": [],
   "source": [
    "from pathlib import Path \n",
    "\n",
    "# 1) Create models directory\n",
    "Path(\"models\").mkdir(parents=True, exist_ok=True)\n",
    "\n",
    "# 2) Create model save path\n",
    "model_save_path = Path(\"models/01a_pytorch_workflow_excerise_model_1.pth\")\n",
    "\n",
    "# 3) Save the model state_dict\n",
    "torch.save(model_1.state_dict(), model_save_path)\n"
   ]
  },
  {
   "cell_type": "code",
   "execution_count": 88,
   "metadata": {},
   "outputs": [
    {
     "name": "stderr",
     "output_type": "stream",
     "text": [
      "C:\\Users\\j_m_r\\AppData\\Local\\Temp\\ipykernel_32192\\3404178923.py:3: FutureWarning: You are using `torch.load` with `weights_only=False` (the current default value), which uses the default pickle module implicitly. It is possible to construct malicious pickle data which will execute arbitrary code during unpickling (See https://github.com/pytorch/pytorch/blob/main/SECURITY.md#untrusted-models for more details). In a future release, the default value for `weights_only` will be flipped to `True`. This limits the functions that could be executed during unpickling. Arbitrary objects will no longer be allowed to be loaded via this mode unless they are explicitly allowlisted by the user via `torch.serialization.add_safe_globals`. We recommend you start setting `weights_only=True` for any use case where you don't have full control of the loaded file. Please open an issue on GitHub for any issues related to this experimental feature.\n",
      "  loaded_model_1.load_state_dict(torch.load(f=model_save_path))\n"
     ]
    },
    {
     "data": {
      "text/plain": [
       "<All keys matched successfully>"
      ]
     },
     "execution_count": 88,
     "metadata": {},
     "output_type": "execute_result"
    }
   ],
   "source": [
    "# Create new instance of model and load saved state dict (make sure to put it on the target device)\n",
    "loaded_model_1 = LinearRegressionModel().to(device)\n",
    "loaded_model_1.load_state_dict(torch.load(f=model_save_path))"
   ]
  },
  {
   "cell_type": "code",
   "execution_count": 89,
   "metadata": {},
   "outputs": [
    {
     "data": {
      "text/plain": [
       "tensor(True)"
      ]
     },
     "execution_count": 89,
     "metadata": {},
     "output_type": "execute_result"
    }
   ],
   "source": [
    "# Make predictions with loaded model and compare them to the previous\n",
    "loaded_model_1.eval()\n",
    "with torch.inference_mode():\n",
    "    y_pred_loaded = loaded_model_1(X_test.to(device)).detach().cpu()\n",
    "\n",
    "# compare\n",
    "(y_pred == y_pred_loaded).all()"
   ]
  },
  {
   "cell_type": "code",
   "execution_count": 90,
   "metadata": {},
   "outputs": [
    {
     "data": {
      "text/plain": [
       "OrderedDict([('linear_layer.weight', tensor([[0.2926]], device='cuda:0')),\n",
       "             ('linear_layer.bias', tensor([0.8999], device='cuda:0'))])"
      ]
     },
     "execution_count": 90,
     "metadata": {},
     "output_type": "execute_result"
    }
   ],
   "source": [
    "loaded_model_1.state_dict()"
   ]
  }
 ],
 "metadata": {
  "kernelspec": {
   "display_name": "udemy-pytorch",
   "language": "python",
   "name": "python3"
  },
  "language_info": {
   "codemirror_mode": {
    "name": "ipython",
    "version": 3
   },
   "file_extension": ".py",
   "mimetype": "text/x-python",
   "name": "python",
   "nbconvert_exporter": "python",
   "pygments_lexer": "ipython3",
   "version": "3.12.4"
  }
 },
 "nbformat": 4,
 "nbformat_minor": 2
}
